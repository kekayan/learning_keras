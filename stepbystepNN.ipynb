{
  "nbformat": 4,
  "nbformat_minor": 0,
  "metadata": {
    "colab": {
      "name": "stepbystepNN.ipynb",
      "version": "0.3.2",
      "provenance": []
    },
    "kernelspec": {
      "name": "python3",
      "display_name": "Python 3"
    },
    "accelerator": "GPU"
  },
  "cells": [
    {
      "cell_type": "markdown",
      "metadata": {
        "id": "view-in-github",
        "colab_type": "text"
      },
      "source": [
        "[View in Colaboratory](https://colab.research.google.com/github/kekayan/learning_keras/blob/master/stepbystepNN.ipynb)"
      ]
    },
    {
      "metadata": {
        "id": "MHGv1el3dZlD",
        "colab_type": "text"
      },
      "cell_type": "markdown",
      "source": [
        "# first neural network model in Python using Keras."
      ]
    },
    {
      "metadata": {
        "id": "XGg97NNUc6nq",
        "colab_type": "text"
      },
      "cell_type": "markdown",
      "source": [
        "The steps\n",
        "\n",
        "1. Load Data\n",
        "2. Define Model\n",
        "3. Compile Model\n",
        "4. Fit Model\n",
        "5. Evaluate Model\n",
        "\n",
        "\n",
        "\n",
        "\n"
      ]
    },
    {
      "metadata": {
        "id": "6jJr72MZcxL1",
        "colab_type": "code",
        "colab": {
          "base_uri": "https://localhost:8080/",
          "height": 123
        },
        "outputId": "9d26df6e-114a-437b-b0fe-4d3fcdc739fb"
      },
      "cell_type": "code",
      "source": [
        "!pip install keras"
      ],
      "execution_count": 1,
      "outputs": [
        {
          "output_type": "stream",
          "text": [
            "Requirement already satisfied: keras in /usr/local/lib/python3.6/dist-packages (2.1.6)\r\n",
            "Requirement already satisfied: pyyaml in /usr/local/lib/python3.6/dist-packages (from keras) (3.12)\r\n",
            "Requirement already satisfied: h5py in /usr/local/lib/python3.6/dist-packages (from keras) (2.7.1)\r\n",
            "Requirement already satisfied: six>=1.9.0 in /usr/local/lib/python3.6/dist-packages (from keras) (1.11.0)\r\n",
            "Requirement already satisfied: scipy>=0.14 in /usr/local/lib/python3.6/dist-packages (from keras) (0.19.1)\r\n",
            "Requirement already satisfied: numpy>=1.9.1 in /usr/local/lib/python3.6/dist-packages (from keras) (1.14.3)\r\n"
          ],
          "name": "stdout"
        }
      ]
    },
    {
      "metadata": {
        "id": "lqwRNJYOdoxu",
        "colab_type": "code",
        "colab": {
          "base_uri": "https://localhost:8080/",
          "height": 35
        },
        "outputId": "f61f5634-b13e-430d-b694-473841ae0217"
      },
      "cell_type": "code",
      "source": [
        "from keras.models import Sequential\n",
        "from keras.layers import Dense\n",
        "import numpy\n",
        "# fix random seed for reproducibility\n",
        "numpy.random.seed(7)\n"
      ],
      "execution_count": 2,
      "outputs": [
        {
          "output_type": "stream",
          "text": [
            "Using TensorFlow backend.\n"
          ],
          "name": "stderr"
        }
      ]
    },
    {
      "metadata": {
        "id": "tdJoV72XfVft",
        "colab_type": "text"
      },
      "cell_type": "markdown",
      "source": [
        "### 1. Load Data"
      ]
    },
    {
      "metadata": {
        "id": "MkuFDA37eSEs",
        "colab_type": "code",
        "colab": {
          "resources": {
            "http://localhost:8080/nbextensions/google.colab/files.js": {
              "data": "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",
              "ok": true,
              "headers": [
                [
                  "content-type",
                  "application/javascript"
                ]
              ],
              "status": 200,
              "status_text": ""
            }
          },
          "base_uri": "https://localhost:8080/",
          "height": 73
        },
        "outputId": "13129d37-99b2-4986-c498-fe70e5effac8"
      },
      "cell_type": "code",
      "source": [
        "#upload dataset to colab\n",
        "from google.colab import files\n",
        "\n",
        "uploaded = files.upload()"
      ],
      "execution_count": 3,
      "outputs": [
        {
          "output_type": "display_data",
          "data": {
            "text/html": [
              "\n",
              "     <input type=\"file\" id=\"files-6b659d42-9df5-434f-b7df-91c3cd6d6ae7\" name=\"files[]\" multiple disabled />\n",
              "     <output id=\"result-6b659d42-9df5-434f-b7df-91c3cd6d6ae7\">\n",
              "      Upload widget is only available when the cell has been executed in the\n",
              "      current browser session. Please rerun this cell to enable.\n",
              "      </output>\n",
              "      <script src=\"/nbextensions/google.colab/files.js\"></script> "
            ],
            "text/plain": [
              "<IPython.core.display.HTML object>"
            ]
          },
          "metadata": {
            "tags": []
          }
        },
        {
          "output_type": "stream",
          "text": [
            "Saving pima-indians-diabetes.csv to pima-indians-diabetes.csv\n"
          ],
          "name": "stdout"
        }
      ]
    },
    {
      "metadata": {
        "id": "KbWxsb9IfAo2",
        "colab_type": "code",
        "colab": {}
      },
      "cell_type": "code",
      "source": [
        "# load pima indians dataset\n",
        "dataset = numpy.loadtxt(\"pima-indians-diabetes.csv\", delimiter=\",\")\n",
        "# split into input (X) and output (Y) variables\n",
        "X = dataset[:,0:8]\n",
        "Y = dataset[:,8]"
      ],
      "execution_count": 0,
      "outputs": []
    },
    {
      "metadata": {
        "id": "rsXM0tITfwtk",
        "colab_type": "text"
      },
      "cell_type": "markdown",
      "source": [
        "### 2. Define Model"
      ]
    },
    {
      "metadata": {
        "id": "5Xkp-U7_fmlt",
        "colab_type": "code",
        "colab": {}
      },
      "cell_type": "code",
      "source": [
        "#create model\n",
        "model=Sequential()\n",
        "model.add(Dense(12,input_dim=8,activation='relu'))\n",
        "model.add(Dense(8,activation='relu'))\n",
        "model.add(Dense(1,activation='sigmoid'))"
      ],
      "execution_count": 0,
      "outputs": []
    },
    {
      "metadata": {
        "id": "RbgMFOw0i7EF",
        "colab_type": "text"
      },
      "cell_type": "markdown",
      "source": [
        "###3. Compile Model"
      ]
    },
    {
      "metadata": {
        "id": "nFbACK7xhqdc",
        "colab_type": "code",
        "colab": {}
      },
      "cell_type": "code",
      "source": [
        "model.compile(loss='binary_crossentropy',optimizer='adam',metrics=['accuracy'])"
      ],
      "execution_count": 0,
      "outputs": []
    },
    {
      "metadata": {
        "id": "oeDi55wxjkD9",
        "colab_type": "text"
      },
      "cell_type": "markdown",
      "source": [
        "###4.Fit Model"
      ]
    },
    {
      "metadata": {
        "id": "HkIBqLuujeib",
        "colab_type": "code",
        "colab": {
          "base_uri": "https://localhost:8080/",
          "height": 5315
        },
        "outputId": "e77263bd-0190-42da-d96b-01b219fca43f"
      },
      "cell_type": "code",
      "source": [
        "model.fit(X,Y,epochs=150,batch_size=10)"
      ],
      "execution_count": 7,
      "outputs": [
        {
          "output_type": "stream",
          "text": [
            "Epoch 1/150\n",
            "768/768 [==============================] - 2s 2ms/step - loss: 3.7048 - acc: 0.5977\n",
            "Epoch 2/150\n",
            "768/768 [==============================] - 0s 588us/step - loss: 0.9408 - acc: 0.5885\n",
            "Epoch 3/150\n",
            "768/768 [==============================] - 1s 682us/step - loss: 0.7518 - acc: 0.6432\n",
            "Epoch 4/150\n",
            "768/768 [==============================] - 1s 683us/step - loss: 0.7113 - acc: 0.6628\n",
            "Epoch 5/150\n",
            "768/768 [==============================] - 1s 676us/step - loss: 0.6812 - acc: 0.6758\n",
            "Epoch 6/150\n",
            "768/768 [==============================] - 1s 656us/step - loss: 0.6503 - acc: 0.6810\n",
            "Epoch 7/150\n",
            "768/768 [==============================] - 1s 653us/step - loss: 0.6493 - acc: 0.6719\n",
            "Epoch 8/150\n",
            "768/768 [==============================] - 1s 685us/step - loss: 0.6366 - acc: 0.6849\n",
            "Epoch 9/150\n",
            "768/768 [==============================] - 1s 658us/step - loss: 0.6242 - acc: 0.6914\n",
            "Epoch 10/150\n",
            "768/768 [==============================] - 1s 663us/step - loss: 0.6297 - acc: 0.6784\n",
            "Epoch 11/150\n",
            "768/768 [==============================] - 1s 663us/step - loss: 0.6476 - acc: 0.6706\n",
            "Epoch 12/150\n",
            "768/768 [==============================] - 1s 652us/step - loss: 0.6398 - acc: 0.6784\n",
            "Epoch 13/150\n",
            "768/768 [==============================] - 1s 658us/step - loss: 0.6258 - acc: 0.6810\n"
          ],
          "name": "stdout"
        },
        {
          "output_type": "stream",
          "text": [
            "Epoch 14/150\n",
            "768/768 [==============================] - 0s 631us/step - loss: 0.6191 - acc: 0.6953\n",
            "Epoch 15/150\n",
            "768/768 [==============================] - 1s 660us/step - loss: 0.6027 - acc: 0.6914\n",
            "Epoch 16/150\n",
            "768/768 [==============================] - 0s 633us/step - loss: 0.5879 - acc: 0.7018\n",
            "Epoch 17/150\n",
            "768/768 [==============================] - 1s 655us/step - loss: 0.5854 - acc: 0.7005\n",
            "Epoch 18/150\n",
            "768/768 [==============================] - 1s 667us/step - loss: 0.6012 - acc: 0.6849\n",
            "Epoch 19/150\n",
            "768/768 [==============================] - 1s 653us/step - loss: 0.5806 - acc: 0.7109\n",
            "Epoch 20/150\n",
            "768/768 [==============================] - 0s 647us/step - loss: 0.5798 - acc: 0.7174\n",
            "Epoch 21/150\n",
            "768/768 [==============================] - 1s 656us/step - loss: 0.5687 - acc: 0.7161\n",
            "Epoch 22/150\n",
            "768/768 [==============================] - 1s 667us/step - loss: 0.5818 - acc: 0.6966\n",
            "Epoch 23/150\n",
            "768/768 [==============================] - 1s 655us/step - loss: 0.5734 - acc: 0.7083\n",
            "Epoch 24/150\n",
            "768/768 [==============================] - 1s 659us/step - loss: 0.5679 - acc: 0.7305\n",
            "Epoch 25/150\n",
            "768/768 [==============================] - 1s 674us/step - loss: 0.5577 - acc: 0.7344\n",
            "Epoch 26/150\n",
            "768/768 [==============================] - 1s 653us/step - loss: 0.5702 - acc: 0.7044\n",
            "Epoch 27/150\n",
            " 10/768 [..............................] - ETA: 0s - loss: 0.3216 - acc: 0.8000"
          ],
          "name": "stdout"
        },
        {
          "output_type": "stream",
          "text": [
            "768/768 [==============================] - 1s 668us/step - loss: 0.5556 - acc: 0.7240\n",
            "Epoch 28/150\n",
            "768/768 [==============================] - 0s 649us/step - loss: 0.5558 - acc: 0.7292\n",
            "Epoch 29/150\n",
            "768/768 [==============================] - 0s 645us/step - loss: 0.5739 - acc: 0.7135\n",
            "Epoch 30/150\n",
            "768/768 [==============================] - 1s 655us/step - loss: 0.5607 - acc: 0.7214\n",
            "Epoch 31/150\n",
            "768/768 [==============================] - 1s 668us/step - loss: 0.5685 - acc: 0.7161\n",
            "Epoch 32/150\n",
            "768/768 [==============================] - 1s 676us/step - loss: 0.5636 - acc: 0.7148\n",
            "Epoch 33/150\n",
            "768/768 [==============================] - 1s 666us/step - loss: 0.5520 - acc: 0.7201\n",
            "Epoch 34/150\n",
            "768/768 [==============================] - 0s 635us/step - loss: 0.5492 - acc: 0.7318\n",
            "Epoch 35/150\n",
            "768/768 [==============================] - 1s 653us/step - loss: 0.5507 - acc: 0.7201\n",
            "Epoch 36/150\n",
            "768/768 [==============================] - 1s 669us/step - loss: 0.5610 - acc: 0.7083\n",
            "Epoch 37/150\n",
            "768/768 [==============================] - 0s 649us/step - loss: 0.5349 - acc: 0.7383\n",
            "Epoch 38/150\n",
            "768/768 [==============================] - 1s 653us/step - loss: 0.5405 - acc: 0.7227\n",
            "Epoch 39/150\n",
            "768/768 [==============================] - 1s 695us/step - loss: 0.5451 - acc: 0.7253\n",
            "Epoch 40/150\n",
            "170/768 [=====>........................] - ETA: 0s - loss: 0.5257 - acc: 0.7353"
          ],
          "name": "stdout"
        },
        {
          "output_type": "stream",
          "text": [
            "768/768 [==============================] - 1s 656us/step - loss: 0.5445 - acc: 0.7214\n",
            "Epoch 41/150\n",
            "768/768 [==============================] - 1s 677us/step - loss: 0.5435 - acc: 0.7357\n",
            "Epoch 42/150\n",
            "768/768 [==============================] - 1s 659us/step - loss: 0.5381 - acc: 0.7409\n",
            "Epoch 43/150\n",
            "768/768 [==============================] - 1s 661us/step - loss: 0.5311 - acc: 0.7526\n",
            "Epoch 44/150\n",
            "768/768 [==============================] - 1s 666us/step - loss: 0.5333 - acc: 0.7422\n",
            "Epoch 45/150\n",
            "768/768 [==============================] - 1s 664us/step - loss: 0.5314 - acc: 0.7539\n",
            "Epoch 46/150\n",
            "768/768 [==============================] - 1s 652us/step - loss: 0.5276 - acc: 0.7539\n",
            "Epoch 47/150\n",
            "768/768 [==============================] - 1s 665us/step - loss: 0.5320 - acc: 0.7357\n",
            "Epoch 48/150\n",
            "768/768 [==============================] - 0s 651us/step - loss: 0.5330 - acc: 0.7396\n",
            "Epoch 49/150\n",
            "768/768 [==============================] - 1s 674us/step - loss: 0.5324 - acc: 0.7500\n",
            "Epoch 50/150\n",
            "768/768 [==============================] - 0s 631us/step - loss: 0.5264 - acc: 0.7383\n",
            "Epoch 51/150\n",
            "768/768 [==============================] - 1s 658us/step - loss: 0.5281 - acc: 0.7500\n",
            "Epoch 52/150\n",
            "768/768 [==============================] - 1s 656us/step - loss: 0.5304 - acc: 0.7474\n",
            "Epoch 53/150\n",
            "100/768 [==>...........................] - ETA: 0s - loss: 0.5738 - acc: 0.6800"
          ],
          "name": "stdout"
        },
        {
          "output_type": "stream",
          "text": [
            "768/768 [==============================] - 0s 633us/step - loss: 0.5387 - acc: 0.7422\n",
            "Epoch 54/150\n",
            "768/768 [==============================] - 0s 620us/step - loss: 0.5372 - acc: 0.7240\n",
            "Epoch 55/150\n",
            "768/768 [==============================] - 0s 608us/step - loss: 0.5220 - acc: 0.7513\n",
            "Epoch 56/150\n",
            "768/768 [==============================] - 0s 642us/step - loss: 0.5277 - acc: 0.7422\n",
            "Epoch 57/150\n",
            "768/768 [==============================] - 0s 640us/step - loss: 0.5307 - acc: 0.7357\n",
            "Epoch 58/150\n",
            "768/768 [==============================] - 1s 653us/step - loss: 0.5225 - acc: 0.7526\n",
            "Epoch 59/150\n",
            "768/768 [==============================] - 1s 656us/step - loss: 0.5119 - acc: 0.7630\n",
            "Epoch 60/150\n",
            "768/768 [==============================] - 1s 665us/step - loss: 0.5334 - acc: 0.7318\n",
            "Epoch 61/150\n",
            "768/768 [==============================] - 1s 677us/step - loss: 0.5276 - acc: 0.7409\n",
            "Epoch 62/150\n",
            "768/768 [==============================] - 0s 646us/step - loss: 0.5169 - acc: 0.7604\n",
            "Epoch 63/150\n",
            "768/768 [==============================] - 1s 672us/step - loss: 0.5419 - acc: 0.7305\n",
            "Epoch 64/150\n",
            "768/768 [==============================] - 1s 664us/step - loss: 0.5312 - acc: 0.7422\n",
            "Epoch 65/150\n",
            "768/768 [==============================] - 1s 663us/step - loss: 0.5197 - acc: 0.7487\n",
            "Epoch 66/150\n",
            " 90/768 [==>...........................] - ETA: 0s - loss: 0.4259 - acc: 0.8222"
          ],
          "name": "stdout"
        },
        {
          "output_type": "stream",
          "text": [
            "768/768 [==============================] - 1s 660us/step - loss: 0.5056 - acc: 0.7539\n",
            "Epoch 67/150\n",
            "768/768 [==============================] - 1s 657us/step - loss: 0.5151 - acc: 0.7409\n",
            "Epoch 68/150\n",
            "768/768 [==============================] - 0s 644us/step - loss: 0.5128 - acc: 0.7539\n",
            "Epoch 69/150\n",
            "768/768 [==============================] - 1s 660us/step - loss: 0.5132 - acc: 0.7487\n",
            "Epoch 70/150\n",
            "768/768 [==============================] - 1s 659us/step - loss: 0.5375 - acc: 0.7266\n",
            "Epoch 71/150\n",
            "768/768 [==============================] - 1s 659us/step - loss: 0.5176 - acc: 0.7383\n",
            "Epoch 72/150\n",
            "768/768 [==============================] - 1s 655us/step - loss: 0.5160 - acc: 0.7500\n",
            "Epoch 73/150\n",
            "768/768 [==============================] - 0s 621us/step - loss: 0.5165 - acc: 0.7448\n",
            "Epoch 74/150\n",
            "768/768 [==============================] - 1s 653us/step - loss: 0.5101 - acc: 0.7630\n",
            "Epoch 75/150\n",
            "768/768 [==============================] - 1s 666us/step - loss: 0.5092 - acc: 0.7591\n",
            "Epoch 76/150\n",
            "768/768 [==============================] - 1s 652us/step - loss: 0.5103 - acc: 0.7578\n",
            "Epoch 77/150\n",
            "768/768 [==============================] - 1s 661us/step - loss: 0.5161 - acc: 0.7630\n",
            "Epoch 78/150\n",
            "768/768 [==============================] - 0s 627us/step - loss: 0.5129 - acc: 0.7552\n",
            "Epoch 79/150\n",
            "170/768 [=====>........................] - ETA: 0s - loss: 0.5143 - acc: 0.7647"
          ],
          "name": "stdout"
        },
        {
          "output_type": "stream",
          "text": [
            "768/768 [==============================] - 1s 672us/step - loss: 0.5135 - acc: 0.7513\n",
            "Epoch 80/150\n",
            "768/768 [==============================] - 0s 632us/step - loss: 0.5096 - acc: 0.7617\n",
            "Epoch 81/150\n",
            "768/768 [==============================] - 1s 652us/step - loss: 0.5051 - acc: 0.7708\n",
            "Epoch 82/150\n",
            "768/768 [==============================] - 0s 646us/step - loss: 0.5042 - acc: 0.7578\n",
            "Epoch 83/150\n",
            "768/768 [==============================] - 1s 669us/step - loss: 0.4994 - acc: 0.7643\n",
            "Epoch 84/150\n",
            "768/768 [==============================] - 0s 645us/step - loss: 0.4968 - acc: 0.7643\n",
            "Epoch 85/150\n",
            "768/768 [==============================] - 1s 667us/step - loss: 0.5048 - acc: 0.7487\n",
            "Epoch 86/150\n",
            "768/768 [==============================] - 1s 653us/step - loss: 0.5051 - acc: 0.7552\n",
            "Epoch 87/150\n",
            "768/768 [==============================] - 1s 661us/step - loss: 0.4988 - acc: 0.7591\n",
            "Epoch 88/150\n",
            "768/768 [==============================] - 1s 665us/step - loss: 0.4994 - acc: 0.7669\n",
            "Epoch 89/150\n",
            "768/768 [==============================] - 1s 673us/step - loss: 0.5037 - acc: 0.7773\n",
            "Epoch 90/150\n",
            "768/768 [==============================] - 0s 626us/step - loss: 0.5094 - acc: 0.7513\n",
            "Epoch 91/150\n",
            "768/768 [==============================] - 0s 643us/step - loss: 0.5024 - acc: 0.7578\n"
          ],
          "name": "stdout"
        },
        {
          "output_type": "stream",
          "text": [
            "Epoch 92/150\n",
            "768/768 [==============================] - 1s 676us/step - loss: 0.5058 - acc: 0.7500\n",
            "Epoch 93/150\n",
            "768/768 [==============================] - 1s 652us/step - loss: 0.4993 - acc: 0.7656\n",
            "Epoch 94/150\n",
            "768/768 [==============================] - 1s 655us/step - loss: 0.4970 - acc: 0.7708\n",
            "Epoch 95/150\n",
            "768/768 [==============================] - 1s 664us/step - loss: 0.5033 - acc: 0.7500\n",
            "Epoch 96/150\n",
            "768/768 [==============================] - 1s 663us/step - loss: 0.4907 - acc: 0.7760\n",
            "Epoch 97/150\n",
            "768/768 [==============================] - 1s 661us/step - loss: 0.5002 - acc: 0.7721\n",
            "Epoch 98/150\n",
            "768/768 [==============================] - 1s 659us/step - loss: 0.4902 - acc: 0.7669\n",
            "Epoch 99/150\n",
            "768/768 [==============================] - 1s 684us/step - loss: 0.4902 - acc: 0.7669\n",
            "Epoch 100/150\n",
            "768/768 [==============================] - 1s 658us/step - loss: 0.4838 - acc: 0.7812\n",
            "Epoch 101/150\n",
            "768/768 [==============================] - 1s 655us/step - loss: 0.4893 - acc: 0.7747\n",
            "Epoch 102/150\n",
            "768/768 [==============================] - 1s 655us/step - loss: 0.4985 - acc: 0.7630\n",
            "Epoch 103/150\n",
            "768/768 [==============================] - 1s 657us/step - loss: 0.4991 - acc: 0.7591\n",
            "Epoch 104/150\n",
            "750/768 [============================>.] - ETA: 0s - loss: 0.4975 - acc: 0.7907"
          ],
          "name": "stdout"
        },
        {
          "output_type": "stream",
          "text": [
            "768/768 [==============================] - 1s 664us/step - loss: 0.4923 - acc: 0.7930\n",
            "Epoch 105/150\n",
            "768/768 [==============================] - 1s 668us/step - loss: 0.5294 - acc: 0.7500\n",
            "Epoch 106/150\n",
            "768/768 [==============================] - 1s 668us/step - loss: 0.4903 - acc: 0.7826\n",
            "Epoch 107/150\n",
            "768/768 [==============================] - 1s 662us/step - loss: 0.4905 - acc: 0.7721\n",
            "Epoch 108/150\n",
            "768/768 [==============================] - 1s 655us/step - loss: 0.4968 - acc: 0.7747\n",
            "Epoch 109/150\n",
            "768/768 [==============================] - 1s 656us/step - loss: 0.4874 - acc: 0.7669\n",
            "Epoch 110/150\n",
            "768/768 [==============================] - 1s 658us/step - loss: 0.4909 - acc: 0.7682\n",
            "Epoch 111/150\n",
            "768/768 [==============================] - 1s 676us/step - loss: 0.4842 - acc: 0.7826\n",
            "Epoch 112/150\n",
            "768/768 [==============================] - 0s 641us/step - loss: 0.4937 - acc: 0.7799\n",
            "Epoch 113/150\n",
            "768/768 [==============================] - 1s 654us/step - loss: 0.4954 - acc: 0.7578\n",
            "Epoch 114/150\n",
            "768/768 [==============================] - 1s 681us/step - loss: 0.4913 - acc: 0.7617\n",
            "Epoch 115/150\n",
            "768/768 [==============================] - 1s 675us/step - loss: 0.4902 - acc: 0.7773\n",
            "Epoch 116/150\n",
            "768/768 [==============================] - 1s 655us/step - loss: 0.4936 - acc: 0.7747\n",
            "Epoch 117/150\n",
            " 10/768 [..............................] - ETA: 0s - loss: 0.8066 - acc: 0.5000"
          ],
          "name": "stdout"
        },
        {
          "output_type": "stream",
          "text": [
            "768/768 [==============================] - 0s 648us/step - loss: 0.4904 - acc: 0.7604\n",
            "Epoch 118/150\n",
            "768/768 [==============================] - 1s 655us/step - loss: 0.4874 - acc: 0.7852\n",
            "Epoch 119/150\n",
            "768/768 [==============================] - 1s 670us/step - loss: 0.4819 - acc: 0.7682\n",
            "Epoch 120/150\n",
            "768/768 [==============================] - 1s 674us/step - loss: 0.4940 - acc: 0.7786\n",
            "Epoch 121/150\n",
            "768/768 [==============================] - 0s 638us/step - loss: 0.4912 - acc: 0.7799\n",
            "Epoch 122/150\n",
            "768/768 [==============================] - 1s 671us/step - loss: 0.4861 - acc: 0.7734\n",
            "Epoch 123/150\n",
            "768/768 [==============================] - 1s 670us/step - loss: 0.4836 - acc: 0.7669\n",
            "Epoch 124/150\n",
            "768/768 [==============================] - 1s 674us/step - loss: 0.4836 - acc: 0.7721\n",
            "Epoch 125/150\n",
            "768/768 [==============================] - 1s 653us/step - loss: 0.4865 - acc: 0.7760\n",
            "Epoch 126/150\n",
            "768/768 [==============================] - 1s 661us/step - loss: 0.4795 - acc: 0.7786\n",
            "Epoch 127/150\n",
            "768/768 [==============================] - 1s 671us/step - loss: 0.4882 - acc: 0.7721\n",
            "Epoch 128/150\n",
            "768/768 [==============================] - 1s 669us/step - loss: 0.4724 - acc: 0.7786\n",
            "Epoch 129/150\n",
            "730/768 [===========================>..] - ETA: 0s - loss: 0.4782 - acc: 0.7795"
          ],
          "name": "stdout"
        },
        {
          "output_type": "stream",
          "text": [
            "768/768 [==============================] - 1s 667us/step - loss: 0.4809 - acc: 0.7773\n",
            "Epoch 130/150\n",
            "768/768 [==============================] - 1s 663us/step - loss: 0.4735 - acc: 0.7852\n",
            "Epoch 131/150\n",
            "768/768 [==============================] - 1s 651us/step - loss: 0.4823 - acc: 0.7682\n",
            "Epoch 132/150\n",
            "768/768 [==============================] - 1s 671us/step - loss: 0.4813 - acc: 0.7839\n",
            "Epoch 133/150\n",
            "768/768 [==============================] - 1s 676us/step - loss: 0.4829 - acc: 0.7695\n",
            "Epoch 134/150\n",
            "768/768 [==============================] - 1s 674us/step - loss: 0.4843 - acc: 0.7734\n",
            "Epoch 135/150\n",
            "768/768 [==============================] - 1s 684us/step - loss: 0.4769 - acc: 0.7773\n",
            "Epoch 136/150\n",
            "768/768 [==============================] - 1s 664us/step - loss: 0.4729 - acc: 0.7826\n",
            "Epoch 137/150\n",
            "768/768 [==============================] - 0s 649us/step - loss: 0.4674 - acc: 0.7826\n",
            "Epoch 138/150\n",
            "768/768 [==============================] - 1s 662us/step - loss: 0.4805 - acc: 0.7839\n",
            "Epoch 139/150\n",
            "768/768 [==============================] - 1s 660us/step - loss: 0.4643 - acc: 0.7917\n",
            "Epoch 140/150\n",
            "768/768 [==============================] - 1s 663us/step - loss: 0.4804 - acc: 0.7852\n",
            "Epoch 141/150\n",
            "768/768 [==============================] - 0s 650us/step - loss: 0.4725 - acc: 0.7839\n",
            "Epoch 142/150\n",
            " 10/768 [..............................] - ETA: 0s - loss: 0.4974 - acc: 0.7000"
          ],
          "name": "stdout"
        },
        {
          "output_type": "stream",
          "text": [
            "768/768 [==============================] - 1s 671us/step - loss: 0.4825 - acc: 0.7799\n",
            "Epoch 143/150\n",
            "768/768 [==============================] - 1s 666us/step - loss: 0.4753 - acc: 0.7721\n",
            "Epoch 144/150\n",
            "768/768 [==============================] - 1s 666us/step - loss: 0.4763 - acc: 0.7747\n",
            "Epoch 145/150\n",
            "768/768 [==============================] - 0s 651us/step - loss: 0.4867 - acc: 0.7682\n",
            "Epoch 146/150\n",
            "768/768 [==============================] - 1s 665us/step - loss: 0.4919 - acc: 0.7747\n",
            "Epoch 147/150\n",
            "768/768 [==============================] - 1s 668us/step - loss: 0.4826 - acc: 0.7839\n",
            "Epoch 148/150\n",
            "768/768 [==============================] - 1s 666us/step - loss: 0.4699 - acc: 0.7786\n",
            "Epoch 149/150\n",
            "768/768 [==============================] - 1s 662us/step - loss: 0.4762 - acc: 0.7643\n",
            "Epoch 150/150\n",
            "768/768 [==============================] - 1s 679us/step - loss: 0.4753 - acc: 0.7812\n"
          ],
          "name": "stdout"
        },
        {
          "output_type": "execute_result",
          "data": {
            "text/plain": [
              "<keras.callbacks.History at 0x7f1600fe3cf8>"
            ]
          },
          "metadata": {
            "tags": []
          },
          "execution_count": 7
        }
      ]
    },
    {
      "metadata": {
        "id": "CzMUncAYkfbG",
        "colab_type": "text"
      },
      "cell_type": "markdown",
      "source": [
        "### 5. Evaluate Model"
      ]
    },
    {
      "metadata": {
        "id": "m8dO1Q36j8F9",
        "colab_type": "code",
        "colab": {
          "base_uri": "https://localhost:8080/",
          "height": 70
        },
        "outputId": "1e61f3b0-f7e6-43ae-a686-c4d4f70569bb"
      },
      "cell_type": "code",
      "source": [
        "scores = model.evaluate(X, Y)\n",
        "print(\"\\n%s: %.2f%%\" % (model.metrics_names[1], scores[1]*100))"
      ],
      "execution_count": 8,
      "outputs": [
        {
          "output_type": "stream",
          "text": [
            "768/768 [==============================] - 0s 121us/step\n",
            "\n",
            "acc: 79.30%\n"
          ],
          "name": "stdout"
        }
      ]
    },
    {
      "metadata": {
        "id": "VMthy0Lvkjl0",
        "colab_type": "code",
        "colab": {
          "base_uri": "https://localhost:8080/",
          "height": 55
        },
        "outputId": "9a7bbd19-84e1-4d24-a177-8ac28002f8bc"
      },
      "cell_type": "code",
      "source": [
        "# calculate predictions\n",
        "predictions = model.predict(X)\n",
        "# round predictions\n",
        "rounded = [round(x[0]) for x in predictions]\n",
        "print(rounded)"
      ],
      "execution_count": 9,
      "outputs": [
        {
          "output_type": "stream",
          "text": [
            "[1.0, 0.0, 1.0, 0.0, 1.0, 0.0, 0.0, 0.0, 1.0, 0.0, 0.0, 1.0, 1.0, 1.0, 1.0, 0.0, 0.0, 0.0, 1.0, 0.0, 0.0, 0.0, 1.0, 0.0, 1.0, 1.0, 1.0, 0.0, 0.0, 0.0, 0.0, 1.0, 0.0, 0.0, 1.0, 1.0, 1.0, 1.0, 0.0, 1.0, 1.0, 1.0, 0.0, 1.0, 1.0, 1.0, 1.0, 0.0, 0.0, 0.0, 0.0, 0.0, 0.0, 1.0, 1.0, 0.0, 1.0, 0.0, 1.0, 0.0, 0.0, 1.0, 0.0, 1.0, 1.0, 0.0, 0.0, 0.0, 0.0, 0.0, 0.0, 1.0, 1.0, 0.0, 0.0, 0.0, 0.0, 0.0, 1.0, 0.0, 0.0, 0.0, 0.0, 0.0, 0.0, 0.0, 1.0, 0.0, 1.0, 0.0, 0.0, 0.0, 0.0, 0.0, 0.0, 1.0, 0.0, 0.0, 0.0, 0.0, 1.0, 1.0, 0.0, 0.0, 0.0, 0.0, 0.0, 1.0, 0.0, 0.0, 1.0, 1.0, 0.0, 0.0, 1.0, 1.0, 1.0, 0.0, 0.0, 0.0, 1.0, 0.0, 0.0, 0.0, 0.0, 1.0, 0.0, 0.0, 0.0, 0.0, 1.0, 1.0, 1.0, 0.0, 0.0, 0.0, 0.0, 0.0, 0.0, 0.0, 0.0, 0.0, 0.0, 1.0, 1.0, 0.0, 0.0, 0.0, 0.0, 0.0, 1.0, 0.0, 1.0, 1.0, 1.0, 1.0, 0.0, 0.0, 0.0, 1.0, 0.0, 0.0, 0.0, 0.0, 0.0, 0.0, 0.0, 1.0, 0.0, 0.0, 0.0, 1.0, 0.0, 0.0, 0.0, 1.0, 0.0, 1.0, 1.0, 1.0, 0.0, 0.0, 0.0, 0.0, 1.0, 1.0, 1.0, 0.0, 1.0, 1.0, 0.0, 0.0, 1.0, 1.0, 0.0, 1.0, 0.0, 0.0, 0.0, 1.0, 0.0, 0.0, 0.0, 0.0, 1.0, 0.0, 1.0, 1.0, 0.0, 1.0, 0.0, 1.0, 1.0, 1.0, 1.0, 1.0, 0.0, 1.0, 0.0, 1.0, 1.0, 1.0, 0.0, 1.0, 0.0, 0.0, 0.0, 1.0, 1.0, 0.0, 1.0, 1.0, 0.0, 1.0, 0.0, 1.0, 1.0, 1.0, 1.0, 0.0, 0.0, 0.0, 1.0, 1.0, 1.0, 1.0, 1.0, 1.0, 1.0, 0.0, 0.0, 0.0, 0.0, 0.0, 1.0, 0.0, 0.0, 0.0, 1.0, 1.0, 1.0, 1.0, 0.0, 0.0, 1.0, 0.0, 1.0, 1.0, 0.0, 1.0, 1.0, 0.0, 0.0, 0.0, 0.0, 0.0, 0.0, 0.0, 0.0, 0.0, 1.0, 1.0, 0.0, 1.0, 0.0, 1.0, 1.0, 0.0, 0.0, 0.0, 0.0, 0.0, 0.0, 1.0, 0.0, 1.0, 1.0, 0.0, 1.0, 0.0, 1.0, 1.0, 0.0, 0.0, 0.0, 0.0, 1.0, 0.0, 0.0, 0.0, 0.0, 0.0, 1.0, 0.0, 1.0, 0.0, 0.0, 1.0, 0.0, 1.0, 0.0, 0.0, 0.0, 1.0, 0.0, 1.0, 0.0, 1.0, 0.0, 0.0, 1.0, 0.0, 1.0, 0.0, 0.0, 1.0, 0.0, 0.0, 1.0, 1.0, 0.0, 0.0, 0.0, 0.0, 0.0, 0.0, 1.0, 0.0, 0.0, 1.0, 0.0, 0.0, 0.0, 0.0, 0.0, 1.0, 1.0, 1.0, 0.0, 1.0, 1.0, 0.0, 0.0, 0.0, 1.0, 0.0, 0.0, 0.0, 0.0, 0.0, 1.0, 0.0, 0.0, 0.0, 1.0, 1.0, 0.0, 0.0, 1.0, 0.0, 0.0, 0.0, 0.0, 0.0, 0.0, 0.0, 0.0, 0.0, 1.0, 0.0, 0.0, 1.0, 0.0, 0.0, 1.0, 1.0, 1.0, 0.0, 0.0, 1.0, 0.0, 0.0, 0.0, 0.0, 1.0, 0.0, 0.0, 0.0, 1.0, 1.0, 0.0, 0.0, 0.0, 0.0, 1.0, 1.0, 0.0, 1.0, 0.0, 1.0, 0.0, 0.0, 0.0, 0.0, 1.0, 1.0, 0.0, 1.0, 0.0, 0.0, 0.0, 0.0, 0.0, 0.0, 0.0, 1.0, 1.0, 1.0, 0.0, 0.0, 1.0, 0.0, 0.0, 1.0, 1.0, 1.0, 0.0, 0.0, 0.0, 0.0, 0.0, 0.0, 0.0, 0.0, 0.0, 1.0, 0.0, 0.0, 1.0, 0.0, 0.0, 0.0, 0.0, 0.0, 0.0, 0.0, 0.0, 0.0, 0.0, 1.0, 0.0, 0.0, 1.0, 1.0, 0.0, 0.0, 0.0, 0.0, 0.0, 0.0, 1.0, 0.0, 0.0, 0.0, 1.0, 1.0, 1.0, 1.0, 0.0, 1.0, 0.0, 0.0, 0.0, 1.0, 0.0, 0.0, 0.0, 0.0, 1.0, 1.0, 0.0, 0.0, 1.0, 0.0, 0.0, 0.0, 0.0, 0.0, 0.0, 0.0, 0.0, 0.0, 0.0, 0.0, 0.0, 1.0, 1.0, 1.0, 0.0, 1.0, 0.0, 0.0, 0.0, 1.0, 1.0, 0.0, 0.0, 0.0, 0.0, 0.0, 0.0, 1.0, 0.0, 0.0, 0.0, 1.0, 0.0, 0.0, 0.0, 0.0, 1.0, 0.0, 0.0, 0.0, 0.0, 1.0, 1.0, 0.0, 0.0, 1.0, 0.0, 0.0, 0.0, 0.0, 0.0, 1.0, 0.0, 0.0, 1.0, 0.0, 1.0, 1.0, 0.0, 0.0, 0.0, 0.0, 0.0, 1.0, 1.0, 0.0, 0.0, 0.0, 0.0, 0.0, 0.0, 0.0, 1.0, 1.0, 1.0, 1.0, 1.0, 0.0, 0.0, 0.0, 1.0, 0.0, 1.0, 0.0, 1.0, 0.0, 1.0, 0.0, 1.0, 0.0, 1.0, 1.0, 0.0, 0.0, 1.0, 0.0, 0.0, 0.0, 0.0, 1.0, 1.0, 1.0, 1.0, 0.0, 1.0, 0.0, 0.0, 1.0, 1.0, 0.0, 1.0, 0.0, 0.0, 0.0, 1.0, 1.0, 0.0, 0.0, 1.0, 0.0, 0.0, 0.0, 0.0, 0.0, 1.0, 0.0, 1.0, 0.0, 0.0, 0.0, 0.0, 1.0, 0.0, 0.0, 0.0, 0.0, 0.0, 1.0, 1.0, 0.0, 0.0, 1.0, 1.0, 1.0, 1.0, 0.0, 0.0, 0.0, 0.0, 1.0, 0.0, 1.0, 0.0, 1.0, 0.0, 0.0, 1.0, 1.0, 1.0, 1.0, 1.0, 0.0, 0.0, 1.0, 1.0, 0.0, 1.0, 0.0, 0.0, 1.0, 0.0, 1.0, 1.0, 0.0, 1.0, 0.0, 0.0, 1.0, 0.0, 0.0, 0.0, 0.0, 0.0, 0.0, 0.0, 1.0, 0.0, 1.0, 0.0, 1.0, 0.0, 1.0, 1.0, 1.0, 0.0, 1.0, 0.0, 1.0, 1.0, 0.0, 0.0, 0.0, 0.0, 0.0, 1.0, 0.0, 1.0, 0.0, 1.0, 0.0, 0.0, 1.0, 1.0, 0.0, 0.0, 0.0, 0.0, 0.0, 1.0, 0.0, 0.0, 0.0, 0.0, 0.0, 0.0, 0.0, 0.0, 0.0, 1.0, 0.0, 0.0, 0.0, 0.0, 0.0, 0.0, 0.0, 1.0, 0.0, 0.0, 1.0, 1.0, 0.0, 1.0, 0.0, 1.0, 1.0, 1.0, 0.0, 0.0, 1.0, 1.0, 0.0, 0.0, 1.0, 0.0, 1.0, 0.0, 1.0, 0.0, 1.0, 0.0, 0.0, 1.0, 0.0]\n"
          ],
          "name": "stdout"
        }
      ]
    },
    {
      "metadata": {
        "id": "RpDVce4NlOX3",
        "colab_type": "code",
        "colab": {}
      },
      "cell_type": "code",
      "source": [
        ""
      ],
      "execution_count": 0,
      "outputs": []
    }
  ]
}